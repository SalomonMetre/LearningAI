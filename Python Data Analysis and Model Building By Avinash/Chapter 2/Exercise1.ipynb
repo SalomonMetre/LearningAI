{
 "cells": [
  {
   "cell_type": "code",
   "execution_count": 31,
   "id": "b41e2441-95d6-4e02-b6b3-6361daaaeea8",
   "metadata": {},
   "outputs": [],
   "source": [
    "import numpy as np"
   ]
  },
  {
   "cell_type": "markdown",
   "id": "5c58962a-02d1-4d7b-a6d6-e76d60961ad8",
   "metadata": {},
   "source": [
    "Creating a numpy array"
   ]
  },
  {
   "cell_type": "code",
   "execution_count": 32,
   "id": "a0b5ec54-d226-40f3-95d9-95ea5cbd6dbf",
   "metadata": {},
   "outputs": [],
   "source": [
    "my_list=np.array([1,2,3,5,8,13])"
   ]
  },
  {
   "cell_type": "markdown",
   "id": "b966abe0-c668-4750-b2fb-9259d255b56b",
   "metadata": {},
   "source": [
    "Other interesting ways of creating numpy arrays"
   ]
  },
  {
   "cell_type": "code",
   "execution_count": 36,
   "id": "22625692-1a2d-4ebd-a98c-a7aac69a4b3b",
   "metadata": {},
   "outputs": [
    {
     "name": "stdout",
     "output_type": "stream",
     "text": [
      "Elements in range 1-10:  [ 1  2  3  4  5  6  7  8  9 10]\n",
      "Array of zeroes : \n",
      " [[0. 0.]\n",
      " [0. 0.]]\n",
      "Array of ones : \n",
      " [[1. 1.]\n",
      " [1. 1.]]\n",
      "Print identity matrix of order 3 : \n",
      " [[1. 0. 0.]\n",
      " [0. 1. 0.]\n",
      " [0. 0. 1.]]\n",
      "3*4 matrix filled with 4s : \n",
      " [[4 4 4 4]\n",
      " [4 4 4 4]\n",
      " [4 4 4 4]]\n",
      "3*3 matrix filled with random values : \n",
      " [[0.72137722 0.83751031 0.35634636]\n",
      " [0.08213178 0.88432127 0.649964  ]\n",
      " [0.66162348 0.23358923 0.50366197]]\n"
     ]
    }
   ],
   "source": [
    "#array within a certain range\n",
    "arr_range=np.arange(1,11)\n",
    "print('Elements in range 1-10: ', arr_range)\n",
    "\n",
    "#array of zeroes\n",
    "arr_zeroes=np.zeros((2,2))\n",
    "print('Array of zeroes : \\n', arr_zeroes)\n",
    "\n",
    "#array of ones\n",
    "arr_ones=np.ones((2,2))\n",
    "print('Array of ones : \\n', arr_ones)\n",
    "\n",
    "#identity matrix\n",
    "arr_id=np.eye(3)\n",
    "print('Print identity matrix of order 3 : \\n', arr_id)\n",
    "\n",
    "#3*4 array filled with 4s\n",
    "arr_fours=np.full((3,4),4)\n",
    "print('3*4 matrix filled with 4s : \\n', arr_fours)\n",
    "\n",
    "#array filled with random values\n",
    "arr_random=np.random.random((3,3))\n",
    "print('3*3 matrix filled with random values : \\n', arr_random)"
   ]
  },
  {
   "cell_type": "markdown",
   "id": "03430360-5703-4897-93a1-869af6d4a227",
   "metadata": {},
   "source": [
    "Exploring the datatype of elements of a np array and the shape of a np array"
   ]
  },
  {
   "cell_type": "code",
   "execution_count": 37,
   "id": "d3e524ab-ced9-4b69-bab0-4e8506e0b086",
   "metadata": {},
   "outputs": [
    {
     "name": "stdout",
     "output_type": "stream",
     "text": [
      "Datatype of matrix of ones :  float64\n",
      "Shape of a numpy array :  (3, 3)\n",
      "Size of a single element within the ones array :  8\n"
     ]
    }
   ],
   "source": [
    "print('Datatype of matrix of ones : ',arr_ones.dtype)\n",
    "print('Shape of a numpy array : ',arr_random.shape)\n",
    "\n",
    "#Itemsize\n",
    "print('Size of a single element within the ones array : ',arr_ones.dtype.itemsize)"
   ]
  },
  {
   "cell_type": "markdown",
   "id": "6a656e39-eea0-4fc9-b46a-c783678d6326",
   "metadata": {},
   "source": [
    "Using complex numbers"
   ]
  },
  {
   "cell_type": "code",
   "execution_count": 38,
   "id": "2db0cfcc-7078-49be-aeb4-b78a93a0c3b4",
   "metadata": {},
   "outputs": [
    {
     "name": "stdout",
     "output_type": "stream",
     "text": [
      "Sum :  (1+11j)\n",
      "Difference :  (7-1j)\n",
      "Product :  (-42+9j)\n",
      "Quotient :  (0.4-0.8666666666666667j)\n"
     ]
    }
   ],
   "source": [
    "complex1=complex(4,5)\n",
    "complex2=complex(-3,6)\n",
    "print('Sum : ',complex1+complex2)\n",
    "print('Difference : ', complex1-complex2)\n",
    "print('Product : ', complex1*complex2)\n",
    "print('Quotient : ', complex1/complex2)"
   ]
  },
  {
   "cell_type": "markdown",
   "id": "16726716-5019-424e-b99a-0b206cf04657",
   "metadata": {
    "tags": []
   },
   "source": [
    "Converting elements from one datatype to another"
   ]
  },
  {
   "cell_type": "code",
   "execution_count": 46,
   "id": "183b7f3b-7d95-4b5c-9247-4eeccb009ea8",
   "metadata": {},
   "outputs": [
    {
     "name": "stdout",
     "output_type": "stream",
     "text": [
      "[[ True  True]\n",
      " [ True  True]]\n",
      "[[0. 0.]\n",
      " [0. 0.]]\n"
     ]
    }
   ],
   "source": [
    "#converting elements of the 'ones' array to boolean datatype\n",
    "print(np.bool_(arr_ones))\n",
    "\n",
    "#converting zeroes array to float32\n",
    "print(np.float32(arr_zeroes))"
   ]
  },
  {
   "cell_type": "markdown",
   "id": "e0db30d6-a97a-4678-a2bf-73a7102bf541",
   "metadata": {},
   "source": [
    "Manipulating array shapes"
   ]
  },
  {
   "cell_type": "code",
   "execution_count": null,
   "id": "ccad59d2-cb3a-473f-bedb-f1b617b3f06e",
   "metadata": {},
   "outputs": [],
   "source": []
  }
 ],
 "metadata": {
  "kernelspec": {
   "display_name": "Python 3 (ipykernel)",
   "language": "python",
   "name": "python3"
  },
  "language_info": {
   "codemirror_mode": {
    "name": "ipython",
    "version": 3
   },
   "file_extension": ".py",
   "mimetype": "text/x-python",
   "name": "python",
   "nbconvert_exporter": "python",
   "pygments_lexer": "ipython3",
   "version": "3.9.13"
  }
 },
 "nbformat": 4,
 "nbformat_minor": 5
}
